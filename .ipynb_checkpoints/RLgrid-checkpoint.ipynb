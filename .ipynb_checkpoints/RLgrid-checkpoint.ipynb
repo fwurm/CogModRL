{
 "cells": [
  {
   "cell_type": "markdown",
   "id": "397eb8a9-84a2-488e-8481-f4b58481f28d",
   "metadata": {},
   "source": [
    "# Reinforcement Learning \n",
    "A computational model of reinforcement learning for a simple Gridworld Problem\n",
    "\n",
    "```\n",
    "  ____   ____  \n",
    "  ____   ____  \n",
    "\n",
    "|| s0 | | s3 ||\n",
    "  ____   ____\n",
    "    \n",
    "|| s1  |  s2 ||\n",
    "  ____   ____\n",
    "  ____   ____\n",
    "```\n",
    "\n",
    " - Agent starts in s0 and can chose from 4 different actions (up, down, left, right).\n",
    " \n",
    " - Reward is only delivered in final state 3.\n",
    " \n",
    " - || (horizontal & vertical) indicates non-permeable wall\n",
    " \n",
    " <br>\n",
    " <br>\n",
    " Course: Cognitive Modelling (4032COGNMY)  <br>\n",
    " Author: Franz Wurm <f.r.wurm@fsw.leidenuniv.nl> <br>\n",
    " Date: Sept. 2021"
   ]
  },
  {
   "cell_type": "code",
   "execution_count": 1,
   "id": "7a52a653-3f38-4c39-a68a-5d58280d03e2",
   "metadata": {},
   "outputs": [],
   "source": [
    "## import necessary packages\n",
    "\n",
    "import numpy as np\n",
    "import matplotlib.pyplot as plt\n",
    "\n",
    "np.set_printoptions(formatter={'float': lambda x: \"{0:0.1f}\".format(x)}) #print float values with 1 decimal"
   ]
  },
  {
   "cell_type": "code",
   "execution_count": 2,
   "id": "7157acc0-9346-4240-a3c6-8028f1f689fd",
   "metadata": {},
   "outputs": [],
   "source": [
    "## define functions \n",
    "\n",
    "def move1step(instate,action):\n",
    "    outstate = instate\n",
    "    if ((instate == 's0') and (action == 'down')):\n",
    "        outstate = 's1' \n",
    "    if ((instate == 's1') and (action == 'up')):\n",
    "        outstate = 's0' \n",
    "    if ((instate == 's1') and (action == 'right')):\n",
    "        outstate = 's2' \n",
    "    if ((instate == 's2') and (action == 'left')):\n",
    "        outstate = 's1' \n",
    "    if ((instate == 's2') and (action == 'up')):\n",
    "        outstate = 's3' \n",
    "    if ((instate == 's3') and (action == 'down')): \n",
    "        outstate = 's2' \n",
    "    return(outstate)  \n",
    "\n",
    "def getReward(state):\n",
    "    if (state == 's3'):\n",
    "        reward = 10\n",
    "    else:\n",
    "        reward = -1\n",
    "    return(reward)         "
   ]
  },
  {
   "cell_type": "code",
   "execution_count": 3,
   "id": "c7195376-04f8-4df6-b3c2-927e72696fde",
   "metadata": {},
   "outputs": [],
   "source": [
    "## set parameters\n",
    "\n",
    "n = 100 #specify how many times you want to run the q-learning function\n",
    "alpha = 0.1 #learning rate\n",
    "beta = 1 #inverse temperature\n",
    "epsilon = 0.1 #parameter for ε-greedy action selection\n",
    "method = 'egreedy' #options: greedy | egreedy | softmax"
   ]
  },
  {
   "cell_type": "code",
   "execution_count": 4,
   "id": "c7169847-4520-4354-8631-ff2737453bb2",
   "metadata": {},
   "outputs": [],
   "source": [
    "## initialize variables\n",
    "\n",
    "actions = np.array(['up', 'left', 'down', 'right'])\n",
    "states = np.array(['s0', 's1', 's2', 's3'])\n",
    "s_0 = 's0'\n",
    "s_terminal = 's3'\n",
    "movecounter = np.empty([n,1] )\n",
    "Q = np.zeros([len(actions),len(states)] )"
   ]
  },
  {
   "cell_type": "code",
   "execution_count": 5,
   "id": "fa1f8b03-7b9a-48c0-99bf-e616bd2b8601",
   "metadata": {},
   "outputs": [
    {
     "name": "stdout",
     "output_type": "stream",
     "text": [
      "initial Q matrix:\n",
      "[[0.0 0.0 0.0 0.0]\n",
      " [0.0 0.0 0.0 0.0]\n",
      " [0.0 0.0 0.0 0.0]\n",
      " [0.0 0.0 0.0 0.0]]\n",
      "\n",
      "Q matrix before first successful run:\n",
      "[[0.0 0.0 1.0 0.0]\n",
      " [0.0 0.0 -0.1 0.0]\n",
      " [-0.1 -0.1 -0.1 0.0]\n",
      " [0.0 -0.2 -0.1 0.0]]\n",
      "\n",
      "final Q matrix:\n",
      "[[0.6 1.4 10.0 0.0]\n",
      " [1.1 0.3 1.4 0.0]\n",
      " [8.0 1.3 1.6 0.0]\n",
      " [0.0 9.0 -0.1 0.0]]\n",
      "\n"
     ]
    }
   ],
   "source": [
    "print('initial Q matrix:\\n' + str(Q) + '\\n')\n",
    "\n",
    "\n",
    "for iT in range(n): # loop for the different runs\n",
    "    #if (iT % 100) == 0:\n",
    "        #print(iT)\n",
    "    state = s_0\n",
    "    moves = 0\n",
    "    while (state != s_terminal): # loop within one run\n",
    "        \n",
    "        qvals = Q[:,state==states]\n",
    "        \n",
    "        \n",
    "        # select action using choice rules\n",
    "        if (method == 'softmax'):\n",
    "            pvals = np.exp(beta*qvals)/np.sum(np.exp(beta*qvals))\n",
    "            action = np.random.choice(actions,size = 1, p = pvals.flatten())            \n",
    "        elif (method == 'greedy'):\n",
    "            choices = np.array(qvals == np.max(qvals))\n",
    "            action = np.random.choice(actions[choices.flatten()])            \n",
    "        elif (method == 'egreedy'):\n",
    "            if (np.random.random() < epsilon):\n",
    "                action = np.random.choice(actions, size = 1)\n",
    "            else:\n",
    "                choices = np.array(qvals == np.max(qvals))\n",
    "                action = np.random.choice(actions[choices.flatten()])\n",
    "        else:\n",
    "            action = np.random.choice(actions)\n",
    "        \n",
    "        # interact with environment\n",
    "        next_state = move1step(state,action)\n",
    "        reward = getReward(next_state)\n",
    "        \n",
    "        actionidx = (action==actions)\n",
    "        stateidx =  (state==states)   \n",
    "        \n",
    "        # update expectations using learing rules\n",
    "        Q[actionidx,stateidx] = Q[actionidx,stateidx] + alpha * (reward + np.max(Q[:, next_state==states]) - Q[actionidx,stateidx])\n",
    "        \n",
    "        if ((iT == 0) and (next_state == \"s3\")):\n",
    "            print('Q matrix before first successful run:\\n' + str(Q) + '\\n')\n",
    "        \n",
    "        # update variables\n",
    "        state = next_state\n",
    "        moves += 1\n",
    "        \n",
    "    #end of while loop\n",
    "    movecounter[iT] = moves\n",
    "#end of for loop\n",
    "\n",
    "print('final Q matrix:\\n' + str(Q) + '\\n')"
   ]
  },
  {
   "cell_type": "code",
   "execution_count": 6,
   "id": "fc0ec4f6-308d-490b-be67-460788e6004a",
   "metadata": {},
   "outputs": [
    {
     "data": {
      "text/plain": [
       "<matplotlib.legend.Legend at 0x236669e5040>"
      ]
     },
     "execution_count": 6,
     "metadata": {},
     "output_type": "execute_result"
    },
    {
     "data": {
      "image/png": "[encoded data removed]",
      "text/plain": [
       "<Figure size 432x288 with 1 Axes>"
      ]
     },
     "metadata": {
      "needs_background": "light"
     },
     "output_type": "display_data"
    }
   ],
   "source": [
    "fig, ax = plt.subplots()  # Create a figure containing a single axes.\n",
    "\n",
    "xdata = range(n)\n",
    "ydata = movecounter\n",
    "\n",
    "ax.plot(xdata, ydata, label = method)  # Plot some data on the axes.\n",
    "\n",
    "ax.set_title('Performance over time')\n",
    "ax.set_xlabel('Run')\n",
    "ax.set_ylabel('Number of actions')\n",
    "ax.legend()"
   ]
  },
  {
   "cell_type": "markdown",
   "id": "095cfaa8-8a9d-492b-891d-511f18071d5a",
   "metadata": {
    "jp-MarkdownHeadingCollapsed": true,
    "tags": []
   },
   "source": [
    "# Questions\n",
    "\n",
    "How could we make the RL model converge faster to the best course of actions?\n",
    "- learning rule?\n",
    "- choice rule?\n",
    "- environment"
   ]
  },
  {
   "cell_type": "markdown",
   "id": "604252e5-ef35-4244-afe4-ebdbe90b3099",
   "metadata": {},
   "source": [
    "# Tips and tricks\n",
    "\n",
    "1. Print important variables using the `print()` function (e.g., Q)\n",
    "2. Or even better: plot it!\n",
    "2. If you dont know a function, try the ? (e.g., `np.array?`)\n"
   ]
  },
  {
   "cell_type": "code",
   "execution_count": null,
   "id": "d885e2bd-2500-45ea-838c-abe13bd39782",
   "metadata": {},
   "outputs": [],
   "source": []
  }
 ],
 "metadata": {
  "kernelspec": {
   "display_name": "Python 3 (ipykernel)",
   "language": "python",
   "name": "python3"
  },
  "language_info": {
   "codemirror_mode": {
    "name": "ipython",
    "version": 3
   },
   "file_extension": ".py",
   "mimetype": "text/x-python",
   "name": "python",
   "nbconvert_exporter": "python",
   "pygments_lexer": "ipython3",
   "version": "3.9.6"
  }
 },
 "nbformat": 4,
 "nbformat_minor": 5
}
