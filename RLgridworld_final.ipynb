{
 "cells": [
  {
   "cell_type": "markdown",
   "id": "397eb8a9-84a2-488e-8481-f4b58481f28d",
   "metadata": {
    "tags": []
   },
   "source": [
    "# Reinforcement Learning \n",
    "A computational model of reinforcement learning for a simple Gridworld Problem\n",
    "\n",
    "```\n",
    "  ____    ____     ____   ____\n",
    "  ____    ____     ____   ____\n",
    "\n",
    "|| s00  |  s01  |  s02 | s03 ||\n",
    "  ____    ____     ____   ____\n",
    "    \n",
    "|| s04  |  s05  |  s06 | s07 ||\n",
    "  ____    ____     ____   ====\n",
    "  \n",
    "|| s08  |  s09  |  s10 | s11 ||\n",
    "  ____    ____     ====   ____\n",
    "   \n",
    "|| s12  |  s13  |  s14 | s15 ||\n",
    "  ____    ____     ____   ____\n",
    "  ____    ____     ____   ____\n",
    "```\n",
    "\n",
    " - Agent starts in s0 and can chose from 4 different actions (up, down, left, right).\n",
    " \n",
    " - Reward is only delivered in final state 15.\n",
    " \n",
    " - || (horizontal & vertical) indicates non-permeable wall\n",
    " - | (horizontal & vertical) indicates permeable wall\n",
    " \n",
    " <br>\n",
    " <br>\n",
    " Course: Cognitive Modelling (4032COGNMY)  <br>\n",
    " Author: Franz Wurm <f.r.wurm@fsw.leidenuniv.nl> <br>\n",
    " Date: Sept. 2021"
   ]
  },
  {
   "cell_type": "markdown",
   "id": "299393b5-5465-4930-9db0-d00d9595e84a",
   "metadata": {},
   "source": [
    "### Load packages\n",
    "\n",
    "In a first step we should load important packages"
   ]
  },
  {
   "cell_type": "code",
   "execution_count": 1,
   "id": "7a52a653-3f38-4c39-a68a-5d58280d03e2",
   "metadata": {},
   "outputs": [],
   "source": [
    "import numpy as np\n",
    "import matplotlib.pyplot as plt\n",
    "from copy import deepcopy\n",
    "\n",
    "np.set_printoptions(formatter={'float': lambda x: \"{0:0.1f}\".format(x)}) #print float values with 1 decimal"
   ]
  },
  {
   "cell_type": "markdown",
   "id": "d3f4d93e-882f-452f-bcff-294747d36bc4",
   "metadata": {},
   "source": [
    "### Set parameters\n",
    "\n",
    "Here we set the framework for our simulation and the agent(s)"
   ]
  },
  {
   "cell_type": "code",
   "execution_count": 7,
   "id": "9a30c595-8716-4fbb-8ded-7f83bad39812",
   "metadata": {},
   "outputs": [],
   "source": [
    "nTrial = 50 #specify how many times you want to run the q-learning function\n",
    "nAgent = 1\n",
    "\n",
    "method = 'egreedy' #options: greedy | egreedy | softmax\n",
    "\n",
    "alpha = 0.1 #learning rate\n",
    "beta = 1 #inverse temperature\n",
    "gamma = 1 # discounting factor\n",
    "epsilon = 0.1 #parameter for ε-greedy action selection"
   ]
  },
  {
   "cell_type": "markdown",
   "id": "b1e09cfa-4e8c-4c46-80c1-ef92091daf7f",
   "metadata": {},
   "source": [
    "### Initialize variables\n",
    "\n",
    "Here we define important variables (e.g. the start and goal state of the environment)"
   ]
  },
  {
   "cell_type": "code",
   "execution_count": 8,
   "id": "c7169847-4520-4354-8631-ff2737453bb2",
   "metadata": {},
   "outputs": [],
   "source": [
    "actions = np.array(['up', 'left', 'down', 'right'])\n",
    "\n",
    "s_0 = 0 #start state\n",
    "s_terminal = 15 #final state (goal)\n",
    "\n",
    "envsize = 4 #size of the environment (n x n)\n",
    "iZ = 0\n",
    "states= np.empty([envsize,envsize],dtype=float)\n",
    "for iY in range(envsize):\n",
    "    for iX in range(envsize):\n",
    "        states[iY][iX] = iZ\n",
    "        iZ +=1\n",
    "#print('states')\n",
    "#print(states)        \n",
    "\n",
    "movecounter = np.empty([nTrial,nAgent] )"
   ]
  },
  {
   "cell_type": "markdown",
   "id": "f28764b4-ae33-4edc-a601-d3a1c523ba1d",
   "metadata": {},
   "source": [
    "### Helper function\n",
    "\n",
    "Some computational steps have to be performed multiple times.\n",
    "Here we define those function so we can call them later on in the script."
   ]
  },
  {
   "cell_type": "code",
   "execution_count": 9,
   "id": "7157acc0-9346-4240-a3c6-8028f1f689fd",
   "metadata": {},
   "outputs": [],
   "source": [
    "def move1step(instate,action):\n",
    "    \n",
    "    coords = list(np.where(states == instate))\n",
    "    \n",
    "    if (action == 'up'):\n",
    "        coords[0] -= 1\n",
    "    if (action == 'down'):\n",
    "        coords[0] += 1\n",
    "    if (action == 'left'):\n",
    "        coords[1] -= 1\n",
    "    if (action == 'right'):\n",
    "        coords[1] += 1\n",
    "        \n",
    "    if (coords[0] < 0):\n",
    "        coords[0] = 0\n",
    "    if (coords[1] < 0):\n",
    "        coords[1] = 0 \n",
    "    if (coords[0] >= envsize):\n",
    "        coords[0] = envsize-1    \n",
    "    if (coords[1] >= envsize):\n",
    "        coords[1] = envsize-1\n",
    "        \n",
    "    outstate = states[coords[0],coords[1]]   \n",
    "    return(outstate)  \n",
    "\n",
    "def getReward(state1,state2):\n",
    "    if (state2 == s_terminal):\n",
    "        reward = 10 #final reward at the end of the run\n",
    "    else:\n",
    "        reward = 0 #intermediate reward (after each action) \n",
    "    if (state1 == state2):\n",
    "        reward = 0 #reward for running into a wall?\n",
    "    return reward    "
   ]
  },
  {
   "cell_type": "markdown",
   "id": "f4fda619-f539-444a-95c9-5db07a7380a0",
   "metadata": {},
   "source": [
    "### Start of simulation\n",
    "\n",
    "Now that we have defined the agent and the environment, we can start the simulation"
   ]
  },
  {
   "cell_type": "code",
   "execution_count": 10,
   "id": "fa1f8b03-7b9a-48c0-99bf-e616bd2b8601",
   "metadata": {},
   "outputs": [
    {
     "name": "stdout",
     "output_type": "stream",
     "text": [
      "Agent\n",
      "0 \n",
      "\n",
      "Final Q(s,a) for agent 0\n",
      "[[[0.0 0.0 0.0 0.0]\n",
      "  [0.0 0.0 0.0 0.0]\n",
      "  [0.0 0.7 0.0 0.0]\n",
      "  [0.0 0.0 0.0 0.0]]\n",
      "\n",
      " [[0.1 0.0 0.0 0.0]\n",
      "  [0.0 0.0 0.0 0.6]\n",
      "  [0.0 0.0 0.0 0.0]\n",
      "  [0.0 0.0 0.0 0.0]]\n",
      "\n",
      " [[0.0 5.3 0.9 0.9]\n",
      "  [0.0 0.0 0.0 9.7]\n",
      "  [0.0 0.0 0.0 9.9]\n",
      "  [0.0 0.0 0.0 0.0]]\n",
      "\n",
      " [[3.6 0.0 0.0 0.0]\n",
      "  [0.6 7.3 8.9 0.0]\n",
      "  [0.0 0.0 0.9 0.0]\n",
      "  [0.0 0.0 0.0 0.0]]]\n"
     ]
    }
   ],
   "source": [
    "print('Agent')\n",
    "for iA in range(nAgent):\n",
    "    \n",
    "    print(iA, end=' ')\n",
    "    Q = np.zeros([len(actions),envsize,envsize] )\n",
    "\n",
    "    #print('initial Q matrix:\\n' + str(Q) + '\\n')\n",
    "    Q0 = deepcopy(Q)\n",
    "\n",
    "    for iT in range(nTrial): # loop for the different runs\n",
    "        #if (iT % 100) == 0:\n",
    "            #print(iT)\n",
    "        state = s_0\n",
    "        moves = 0\n",
    "        while (state != s_terminal): # loop within one run\n",
    "        \n",
    "            coord0 = np.where(states == state)\n",
    "\n",
    "            qvals = Q[:,coord0[0],coord0[1]]\n",
    "              \n",
    "            # select action using choice rules\n",
    "            if (method == 'softmax'):\n",
    "                pvals = np.exp(beta*qvals)/np.sum(np.exp(beta*qvals))\n",
    "                action = np.random.choice(actions,size = 1, p = pvals.flatten())            \n",
    "            elif (method == 'greedy'):\n",
    "                choices = np.array(qvals == np.max(qvals))\n",
    "                action = np.random.choice(actions[choices.flatten()])            \n",
    "            elif (method == 'egreedy'):\n",
    "                if (np.random.random() < epsilon):\n",
    "                    action = np.random.choice(actions, size = 1)\n",
    "                else:\n",
    "                    choices = np.array(qvals == np.max(qvals))\n",
    "                    action = np.random.choice(actions[choices.flatten()])\n",
    "            else:\n",
    "                action = np.random.choice(actions)\n",
    "        \n",
    "            # interact with environment\n",
    "            next_state = move1step(state,action)\n",
    "            #print('next state: '+str(next_state))\n",
    "            reward = getReward(state,next_state)\n",
    "        \n",
    "            actionidx = (action==actions)\n",
    "            coord1 = np.where(states == next_state) \n",
    "        \n",
    "            # update expectations using learing rules\n",
    "            Q[actionidx,coord0[0],coord0[1]] = Q[actionidx,coord0[0],coord0[1]] + alpha * (reward + gamma * np.max(Q[:,coord1[0],coord1[1]]) - Q[actionidx,coord0[0],coord0[1]])\n",
    "        \n",
    "            if ((iT == 0) and (next_state == s_terminal)):\n",
    "                #print('Q matrix before first successful run:\\n' + str(Q) + '\\n')\n",
    "                Q1 = deepcopy(Q)\n",
    "        \n",
    "            # update variables\n",
    "            state = next_state\n",
    "            moves += 1\n",
    "        \n",
    "        #end of while loop\n",
    "        movecounter[iT,iA] = moves\n",
    "    #end of trial for loop\n",
    "    #print('final Q matrix:\\n' + str(Q) + '\\n')\n",
    "    Q2 = deepcopy(Q)\n",
    "#end of agent for loop\n",
    "print('\\n\\nFinal Q(s,a) for agent '+str(iA))\n",
    "print(Q)"
   ]
  },
  {
   "cell_type": "markdown",
   "id": "11c8dfee-64cb-439c-a3bf-9bc76bb76e1a",
   "metadata": {},
   "source": [
    "### Plotting performance"
   ]
  },
  {
   "cell_type": "code",
   "execution_count": 11,
   "id": "fc0ec4f6-308d-490b-be67-460788e6004a",
   "metadata": {},
   "outputs": [
    {
     "data": {
      "text/plain": [
       "<matplotlib.legend.Legend at 0x1113df13070>"
      ]
     },
     "execution_count": 11,
     "metadata": {},
     "output_type": "execute_result"
    },
    {
     "data": {
      "image/png": "[encoded data removed]",
      "text/plain": [
       "<Figure size 432x288 with 1 Axes>"
      ]
     },
     "metadata": {
      "needs_background": "light"
     },
     "output_type": "display_data"
    }
   ],
   "source": [
    "fig, ax = plt.subplots()  # Create a figure containing a single axes.\n",
    "\n",
    "xdata = range(nTrial)\n",
    "ydata = np.mean(movecounter,axis=1)\n",
    "\n",
    "ax.plot(xdata, ydata, label = method)  # Plot some data on the axes.\n",
    "\n",
    "ax.set_title('Performance over time')\n",
    "ax.set_xlabel('Run')\n",
    "ax.set_ylabel('Number of moves')\n",
    "ax.legend()"
   ]
  },
  {
   "cell_type": "code",
   "execution_count": 139,
   "id": "c9af1f99-e14f-41ec-a7e7-076b7e414a8f",
   "metadata": {},
   "outputs": [
    {
     "name": "stdout",
     "output_type": "stream",
     "text": [
      "[6.0 8.0 6.0 6.0 6.0 6.0 7.0 6.0 8.0 18.0 6.0 6.0 10.0 6.0 6.0 8.0 7.0 8.0\n",
      " 6.0 9.0 9.0 6.0 8.0 10.0 9.0 15.0 7.0 6.0 6.0 6.0 6.0 10.0 6.0 8.0 6.0\n",
      " 6.0 6.0 6.0 6.0 6.0 6.0 6.0 6.0 6.0 7.0 6.0 7.0 6.0 6.0 8.0]\n"
     ]
    }
   ],
   "source": [
    "print(movecounter[49,:])"
   ]
  },
  {
   "cell_type": "code",
   "execution_count": null,
   "id": "a951eb53-3296-487b-927e-de3968bf7f0d",
   "metadata": {},
   "outputs": [],
   "source": []
  },
  {
   "cell_type": "code",
   "execution_count": 148,
   "id": "502769ef-d4cc-4ea1-85e1-1b46bb45f884",
   "metadata": {},
   "outputs": [
    {
     "name": "stdout",
     "output_type": "stream",
     "text": [
      "[[0.0 0.0 0.0 0.0]\n",
      " [0.0 0.0 0.0 0.0]\n",
      " [0.0 0.0 0.0 0.0]\n",
      " [0.0 0.0 0.0 0.0]]\n",
      "[[0.0 0.0 0.0 0.0]\n",
      " [0.0 0.0 0.0 0.0]\n",
      " [0.0 0.0 0.0 0.2]\n",
      " [0.0 0.0 0.0 0.0]]\n",
      "[[0.8 0.0 0.5 0.0]\n",
      " [1.2 1.8 2.2 0.0]\n",
      " [0.0 0.1 2.4 0.5]\n",
      " [0.0 0.8 2.5 0.0]]\n"
     ]
    }
   ],
   "source": [
    "#Q2_0 = np.reshape(np.zeros([6,1]),[3,2])\n",
    "\n",
    "#Q2 = np.zeros([6,1])\n",
    "#Q2test = np.zeros([6,1])\n",
    "#idx = [0, 5, 1, 4, 2, 3]\n",
    "\n",
    "Qmat0 = np.mean(Q0,axis=0)\n",
    "Qmat1 = np.mean(Q1,axis=0)\n",
    "Qmat2 = np.mean(Q2,axis=0)\n",
    "\n",
    "\n",
    "\n",
    "#for i in range(6):\n",
    "#    Q2[i] = Qmat1[idx[i]]  \n",
    "#    Q2test[i] = Qmat2[idx[i]]  \n",
    "#Q2_test = np.reshape(Q2test,[3,2])\n",
    "#Q2_1 = np.reshape(Q2,[3,2])\n",
    "\n",
    "print(Qmat0)\n",
    "print(Qmat1)\n",
    "print(Qmat2)\n"
   ]
  },
  {
   "cell_type": "code",
   "execution_count": 149,
   "id": "c1f0e47c-f608-4614-8965-204a376f8e41",
   "metadata": {},
   "outputs": [
    {
     "data": {
      "image/png": "[encoded data removed]",
      "text/plain": [
       "<Figure size 432x288 with 3 Axes>"
      ]
     },
     "metadata": {
      "needs_background": "light"
     },
     "output_type": "display_data"
    }
   ],
   "source": [
    "fig, (ax1, ax2, ax3) = plt.subplots(1, 3)\n",
    "\n",
    "layout = [['s0', 's5/6'], ['s1', 's4'], ['s2', 's3']]\n",
    "\n",
    "min_val, max_val = -1, 10\n",
    "\n",
    "for i in range(envsize):\n",
    "    for j in range(envsize):\n",
    "        ax1.text(i, j, str(states[j][i]), va='center', ha='center',size=10)\n",
    "        ax2.text(i, j, str(states[j][i]), va='center', ha='center',size=10)\n",
    "        ax3.text(i, j, str(states[j][i]), va='center', ha='center',size=10)\n",
    "ax1.matshow(Qmat0, cmap=plt.cm.Blues)  \n",
    "ax2.matshow(Qmat1, cmap=plt.cm.Blues)\n",
    "ax3.matshow(Qmat2, cmap=plt.cm.Blues)\n",
    "\n",
    "ax1.axes.xaxis.set_visible(False)\n",
    "ax1.axes.yaxis.set_visible(False)\n",
    "ax2.axes.xaxis.set_visible(False)\n",
    "ax2.axes.yaxis.set_visible(False)\n",
    "ax3.axes.xaxis.set_visible(False)\n",
    "ax3.axes.yaxis.set_visible(False)\n",
    "\n",
    "ax1.title.set_text('Run 0')\n",
    "ax1.title.set_size(20)\n",
    "ax2.title.set_text('Run 1')\n",
    "ax2.title.set_size(20)\n",
    "ax3.title.set_text('Run X')\n",
    "ax3.title.set_size(20)\n"
   ]
  },
  {
   "cell_type": "markdown",
   "id": "c55b299d-d2c0-4311-904b-afb53b7e63e6",
   "metadata": {},
   "source": [
    "### Plotting policy\n",
    "\n",
    "Following Sutton & Barto (2018), a policy \"defines the learning agent's way of behaving at a given time\", i.e. the mapping between states and actions."
   ]
  },
  {
   "cell_type": "code",
   "execution_count": 150,
   "id": "eae7e9ec-a19e-43a8-82cc-892085657c9d",
   "metadata": {},
   "outputs": [
    {
     "name": "stdout",
     "output_type": "stream",
     "text": [
      "[[2 3 2 0]\n",
      " [3 3 2 0]\n",
      " [3 2 2 2]\n",
      " [0 3 3 0]]\n"
     ]
    }
   ],
   "source": [
    "index_max = np.argmax(Q2,axis=0)\n",
    "print(index_max)"
   ]
  },
  {
   "cell_type": "markdown",
   "id": "095cfaa8-8a9d-492b-891d-511f18071d5a",
   "metadata": {
    "jp-MarkdownHeadingCollapsed": true,
    "tags": []
   },
   "source": [
    "# Questions\n",
    "\n",
    "How could we make the RL model converge faster to the best course of actions?\n",
    "- learning rule?\n",
    "- choice rule?\n",
    "- environment"
   ]
  },
  {
   "cell_type": "markdown",
   "id": "604252e5-ef35-4244-afe4-ebdbe90b3099",
   "metadata": {},
   "source": [
    "# Tips and tricks\n",
    "\n",
    "1. Print important variables using the `print()` function (e.g., Q)\n",
    "2. Or even better: plot it!\n",
    "2. If you dont know a function, try the ? (e.g., `np.array?`)\n"
   ]
  }
 ],
 "metadata": {
  "kernelspec": {
   "display_name": "Python 3 (ipykernel)",
   "language": "python",
   "name": "python3"
  },
  "language_info": {
   "codemirror_mode": {
    "name": "ipython",
    "version": 3
   },
   "file_extension": ".py",
   "mimetype": "text/x-python",
   "name": "python",
   "nbconvert_exporter": "python",
   "pygments_lexer": "ipython3",
   "version": "3.9.6"
  }
 },
 "nbformat": 4,
 "nbformat_minor": 5
}
